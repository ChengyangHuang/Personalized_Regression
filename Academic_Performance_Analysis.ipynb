{
  "nbformat": 4,
  "nbformat_minor": 0,
  "metadata": {
    "colab": {
      "name": "Academic Performance Analysis",
      "provenance": [],
      "collapsed_sections": [],
      "include_colab_link": true
    },
    "kernelspec": {
      "name": "python3",
      "display_name": "Python 3"
    }
  },
  "cells": [
    {
      "cell_type": "markdown",
      "metadata": {
        "id": "view-in-github",
        "colab_type": "text"
      },
      "source": [
        "<a href=\"https://colab.research.google.com/github/ChengyangHuang/Personalized_Regression/blob/main/Academic_Performance_Analysis.ipynb\" target=\"_parent\"><img src=\"https://colab.research.google.com/assets/colab-badge.svg\" alt=\"Open In Colab\"/></a>"
      ]
    },
    {
      "cell_type": "code",
      "metadata": {
        "id": "1PkK996LJPRh"
      },
      "source": [
        "import os\n",
        "\n",
        "if not os.path.exists(\"/content/student.zip\"):\n",
        "    !wget https://archive.ics.uci.edu/ml/machine-learning-databases/00320/student.zip\n",
        "if not (os.path.exists(\"/content/student-por.csv\") and os.path.exists(\"/content/student-por.csv\")):\n",
        "    !unzip /content/student.zip"
      ],
      "execution_count": null,
      "outputs": []
    },
    {
      "cell_type": "code",
      "metadata": {
        "id": "wRWWorSvKdtB"
      },
      "source": [
        "import pandas as pd\n",
        "import numpy as np\n",
        "import matplotlib.pyplot as plt\n",
        "\n",
        "from sklearn.model_selection import train_test_split\n",
        "from sklearn.preprocessing import StandardScaler\n",
        "from sklearn.impute import KNNImputer\n",
        "\n",
        "from sklearn.linear_model import LinearRegression, LogisticRegression\n",
        "from sklearn.mixture import GaussianMixture, BayesianGaussianMixture\n",
        "from sklearn.neural_network import MLPClassifier, MLPRegressor\n",
        "\n",
        "from sklearn.decomposition import PCA\n",
        "from sklearn.manifold import TSNE\n",
        "\n",
        "from sklearn.metrics import accuracy_score, precision_recall_fscore_support, roc_auc_score\n",
        "from sklearn.metrics import mean_squared_error, r2_score\n",
        "\n",
        "from scipy.spatial import KDTree\n",
        "from scipy.spatial import distance_matrix\n",
        "from scipy.special import softmax, expit\n",
        "\n",
        "import torch\n",
        "\n",
        "# np.random.seed(0)\n",
        "\n",
        "\n",
        "def make_mapping(column):\n",
        "    mapping = {}\n",
        "    for x in column:\n",
        "        if not (x in mapping.keys()):\n",
        "            mapping[x] = len(mapping)\n",
        "    return mapping\n",
        "\n",
        "\n",
        "def load_dataset(filepath = \"/content/student-por.csv\"):\n",
        "    dataset = pd.read_csv(filepath, sep=';')\n",
        "    print(dataset)\n",
        "    mapping_dict = {}\n",
        "    yn_mapping = {\"yes\": 1, \n",
        "                \"no\": 0}\n",
        "\n",
        "    X = []\n",
        "    for name, column in dataset.items():\n",
        "        column = column.values\n",
        "        if type(column[0]) == str:\n",
        "            if column[0] == \"yes\" or column[0] == \"no\":\n",
        "                mapping_dict[name] = yn_mapping\n",
        "                X.append([yn_mapping[x] for x in column])\n",
        "            elif name == \"Fjob\":\n",
        "                mapping = mapping_dict[\"Mjob\"]\n",
        "                mapping_dict[name] = mapping\n",
        "                X.append([mapping[x] for x in column])\n",
        "            else:\n",
        "                mapping = make_mapping(column)\n",
        "                mapping_dict[name] = mapping\n",
        "                X.append([mapping[x] for x in column])\n",
        "        else:\n",
        "            X.append(column)\n",
        "    \n",
        "    X = np.array(X).T\n",
        "    y = X[:, -3:]\n",
        "    X = X[:, :-3]\n",
        "    return X, y\n",
        "\n",
        "\n",
        "def print_metrics(dic):\n",
        "    message = f\"\\n\"\n",
        "    for k, v in dic.items():\n",
        "        message += f\"{k}:\\t{v}\\n\"\n",
        "    print(message)\n",
        "\n",
        "\n",
        "def evaluate_method(method, X_test, y_test, method_name, U_test=None):\n",
        "    if method_name == \"Personalized Regression\":\n",
        "        y_pred = method.predict(X_test, U_test)\n",
        "    else:\n",
        "        y_pred = method.predict(X_test)\n",
        "    mse = mean_squared_error(y_test, y_pred)\n",
        "    R2 = r2_score(y_test, y_pred)\n",
        "    performance_dict = {\"method_name\": method_name,\n",
        "                        \"MSE\": mse,\n",
        "                        \"R2\": R2\n",
        "                        }\n",
        "    return performance_dict"
      ],
      "execution_count": null,
      "outputs": []
    },
    {
      "cell_type": "code",
      "metadata": {
        "id": "JFhhox9rqDvy"
      },
      "source": [
        "class PRRegressor():\n",
        "    def __init__(self, args, theta_pop, trainset, validset=None):\n",
        "        # Training Parameters\n",
        "        self.cov_norm_ord = args.covariate_norm_ord\n",
        "        self.cov_xstart = args.covariate_x_start\n",
        "        self.cov_xend= args.covariate_x_end\n",
        "        self.sigma_theta = args.sigma_theta\n",
        "        self.lambd = args.theta_regularizer\n",
        "        self.gamma = args.distance_regularizer\n",
        "        self.nu = args.phi_regularizer\n",
        "        self.alpha = args.learning_rate\n",
        "        self.c = args.lr_decay\n",
        "        self.q = args.latent_dim\n",
        "        self.k = args.covariate_dim\n",
        "        self.log_steps = args.log_steps\n",
        "        self.n_neighbors = args.n_neighbors\n",
        "        self.show_logs = args.show_logs\n",
        "        self.use_distance_loss = args.use_distance_loss\n",
        "\n",
        "        self.theta_pop = torch.from_numpy(theta_pop).flatten()\n",
        "        self.n_features, self.n_outputs = theta_pop.shape\n",
        "\n",
        "        # Training Data\n",
        "        X_train, y_train, U_train = trainset\n",
        "        self.X_train = torch.from_numpy(X_train)\n",
        "        self.y_train = torch.from_numpy(y_train).to(dtype=torch.double)\n",
        "        self.__init_U_train(U_train)\n",
        "        self.n = self.X_train.shape[0]\n",
        "\n",
        "        # Validation Data\n",
        "        if type(validset) != \"NoneType\":\n",
        "            self.eval = True\n",
        "            self.X_eval, self.y_eval, self.U_eval = validset\n",
        "        else: \n",
        "            self.eval = False\n",
        "\n",
        "        # Variable Initialization\n",
        "        PI = np.random.multivariate_normal(theta_pop.flatten(), self.sigma_theta*np.eye(self.n_features*self.n_outputs), size=self.n)\n",
        "        self.PI = torch.from_numpy(PI)\n",
        "        self.Z, self.Q = self.__init_ZnQ(PI)\n",
        "        self.phi = torch.ones((self.k, ), dtype=torch.float64) / self.k\n",
        "\n",
        "        # Loss Functions\n",
        "        self.__sample_specific_loss = torch.nn.MSELoss(reduction=\"mean\")\n",
        "        self.__parameter_regularizer = torch.nn.L1Loss()\n",
        "        self.__phi_regularizer = torch.nn.MSELoss()\n",
        "        self.__distance_loss = torch.nn.MSELoss()\n",
        "\n",
        "\n",
        "    def train(self, n_epoch=5):\n",
        "        for epoch in range(n_epoch):\n",
        "            # Require Gradient for variables\n",
        "            Z = self.Z.clone().requires_grad_(True)\n",
        "            Q = self.Q.clone().requires_grad_(True)\n",
        "            phi = self.phi.clone().requires_grad_(True)\n",
        "            PI = self.__update_PI(Z, Q) \n",
        "\n",
        "            y_pred = self.__predict(self.X_train, PI)\n",
        "\n",
        "            # Calculate Loss\n",
        "            l_loss = self.__sample_specific_loss(y_pred, self.y_train)\n",
        "            D_loss = self.__distance_matching_regularizer(Z, phi) if self.use_distance_loss else 0\n",
        "            theta_loss = self.__parameter_regularizer(PI, torch.zeros_like(PI))\n",
        "            phi_sum = torch.sum(phi, dim=0, keepdim=True)\n",
        "            phi_loss = self.__phi_regularizer(phi_sum, torch.ones_like(phi_sum)) # Weight should sum to one\n",
        "            loss = l_loss + self.gamma * D_loss + self.lambd * theta_loss + self.nu * phi_loss\n",
        "            \n",
        "            # Update phi\n",
        "            loss.backward()\n",
        "            self.phi -= self.alpha * phi.grad\n",
        "\n",
        "            # Update Z\n",
        "            alpha_cust = self.alpha / torch.linalg.norm(self.PI-self.theta_pop, \n",
        "                                                        float('inf'), dim=1, keepdim=True)\n",
        "\n",
        "            # self.Z -= alpha_cust * Z.grad\n",
        "            self.Z -= torch.bmm(Z.grad.unsqueeze(2), alpha_cust.unsqueeze(2)).squeeze()\n",
        "\n",
        "            # Update Q\n",
        "            self.Q -= self.alpha * Q.grad\n",
        "\n",
        "            # Update alpha\n",
        "            self.alpha *= self.c\n",
        "\n",
        "            # Update theta, PI\n",
        "            self.PI = self.__update_PI(self.Z, self.Q)\n",
        "\n",
        "            if self.show_logs and epoch % self.log_steps == 0:\n",
        "                message = f\"Epoch {epoch+1} - Total loss: {loss}\\tDistance loss:{D_loss}\"\n",
        "                print(\"-\"*20)\n",
        "                print(message)\n",
        "                if self.eval:\n",
        "                    print_metrics(evaluate_method(self, self.X_eval, self.y_eval, \"Personalized Regression\", self.U_eval))\n",
        "                print(\"-\"*20)\n",
        "        \n",
        "\n",
        "    def predict(self, X_test, U_test):\n",
        "        X = torch.from_numpy(X_test)\n",
        "        dist_mat_test = self.__create_distance_matrix(self.U_train.numpy(), U_test)\n",
        "        _, idx_sets = torch.matmul(dist_mat_test, self.phi).topk(self.n_neighbors, dim=1)\n",
        "        PI = self.PI[idx_sets, :].mean(axis=1)\n",
        "        y_pred = self.__predict(X, PI).detach().numpy()\n",
        "        return y_pred\n",
        "\n",
        "\n",
        "    def __predict(self, X, PI):\n",
        "        pred = torch.bmm(X.unsqueeze(1), PI.view(-1, self.n_features, self.n_outputs)).squeeze()\n",
        "        return pred\n",
        "\n",
        "    def __create_distance_matrix(self, A, B):\n",
        "        dist_mat = []\n",
        "        for i in range(self.k):\n",
        "            dist_mat.append(distance_matrix(A[:, [i]], B[:, [i]], p=self.cov_norm_ord))\n",
        "        dist_mat = torch.from_numpy(np.array(dist_mat)).T\n",
        "        return dist_mat\n",
        "\n",
        "    def __init_U_train(self, U_train: np.array):\n",
        "        self.U_train = torch.from_numpy(U_train)\n",
        "        self.U_distance_mat = self.__create_distance_matrix(U_train, U_train)\n",
        "        # print(f\"Distance Matrix Shape: {self.U_distance_mat.shape}\")\n",
        "\n",
        "\n",
        "    def __init_ZnQ(self, PI):\n",
        "        pca = PCA(n_components=self.q, whiten=False)\n",
        "        Z = pca.fit_transform(PI)\n",
        "        Q = pca.components_\n",
        "        return torch.from_numpy(Z), torch.from_numpy(Q)\n",
        "    \n",
        "\n",
        "    def __update_PI(self, Z, Q):\n",
        "        return torch.mm(Z, Q) + self.theta_pop\n",
        "    \n",
        "\n",
        "    def __distance_matching_regularizer(self, Z, phi):       \n",
        "        _Z = Z.detach().numpy()\n",
        "        tree = KDTree(_Z)\n",
        "        _, idx_set = tree.query(_Z, k=6)\n",
        "        idx_set = idx_set[:, 1:]\n",
        "        Z_set = Z[idx_set, :]\n",
        "        delta_Z = Z.view(Z.shape[0], 1, -1).expand(-1, Z_set.shape[1], -1) - Z_set\n",
        "        delta_Z = torch.linalg.norm(delta_Z, ord=2, dim=2)\n",
        "\n",
        "        U_dist_idx = torch.from_numpy(idx_set).to(dtype=torch.int64).view(idx_set.shape[0], -1, 1).expand(-1, -1, self.k)\n",
        "        U_dist_set = torch.gather(self.U_distance_mat, 1, U_dist_idx)\n",
        "        rho_U = torch.matmul(U_dist_set, phi)\n",
        "        d_loss = self.__distance_loss(delta_Z, rho_U)\n",
        "        return d_loss\n"
      ],
      "execution_count": null,
      "outputs": []
    },
    {
      "cell_type": "code",
      "metadata": {
        "colab": {
          "base_uri": "https://localhost:8080/",
          "height": 1000
        },
        "id": "uSwrQf_7prQN",
        "outputId": "5ef5fa9e-f747-4813-a88a-bcad1b7d5658"
      },
      "source": [
        "class PR_Arguments():\n",
        "    # Data Arguments\n",
        "    sigma_theta = 0.01 #0.001\n",
        "    theta_regularizer = 0.01\n",
        "    distance_regularizer = 0.01\n",
        "    phi_regularizer = 0\n",
        "\n",
        "    # \n",
        "    n_neighbors = 3\n",
        "    latent_dim = 2\n",
        "    covariate_dim = 2\n",
        "    covariate_norm_ord = 2\n",
        "    covariate_x_start = 2\n",
        "    covariate_x_end = -1\n",
        "\n",
        "    # Traing Arguments\n",
        "    learning_rate = 0.001 #4e-3\n",
        "    lr_decay = 1 #1-1e-4\n",
        "    n_epoch = 5000 #2000\n",
        "    log_steps = 100\n",
        "    show_logs = True\n",
        "    use_distance_loss = False\n",
        "\n",
        "\n",
        "def main():\n",
        "    X, y = load_dataset()\n",
        "    y = y[:, [-1]]\n",
        "    print(y.shape)\n",
        "    U = TSNE().fit_transform(X[:, 2:])\n",
        "    plt.scatter(U[:, 0], U[:, 1])\n",
        "    plt.show()\n",
        "    X_train, X_test, y_train, y_test, U_train, U_test = train_test_split(X, y, U, test_size=0.33, random_state=42)\n",
        "\n",
        "    ## Preprocessing\n",
        "    # scaler =  StandardScaler()\n",
        "    # X_train = scaler.fit_transform(X_train)\n",
        "    # X_test = scaler.transform(X_test)\n",
        "\n",
        "    ### Methods\n",
        "    dict_list = []\n",
        "\n",
        "    ## Linear Regression\n",
        "    lr = LinearRegression().fit(X_train, y_train)\n",
        "    dict_lr = evaluate_method(lr, X_test, y_test, \"Linear Regression\")\n",
        "    dict_list.append(dict_lr)\n",
        "\n",
        "    ## Gaussian Mixture\n",
        "    # gmm = GaussianMixture(n_components=3).fit(X_train, y_train)\n",
        "    # dict_gmm = evaluate_method(gmm, X_test, y_test, \"Gaussian Mixture\")\n",
        "    # dict_list.append(dict_gmm)\n",
        "\n",
        "    # ## DNN\n",
        "    # dnn = MLPRegressor(hidden_layer_sizes=(100,)).fit(X_train, y_train.squeeze())\n",
        "    # dict_dnn = evaluate_method(dnn, X_test, y_test, \"Deep Neural Networks\")\n",
        "    # dict_list.append(dict_dnn)\n",
        "\n",
        "\n",
        "    # ## Personalized Regression\n",
        "    pr_args = PR_Arguments()\n",
        "    theta_lr = np.concatenate((np.array(lr.coef_), np.array(lr.intercept_).reshape((-1, 1))), axis=1).T\n",
        "    X_train = np.concatenate((X_train, np.ones((X_train.shape[0], 1))), axis=1)\n",
        "    X_test = np.concatenate((X_test, np.ones((X_test.shape[0], 1))), axis=1)\n",
        "    trainset = (X_train, y_train, U_train)\n",
        "    evalset = (X_test, y_test, U_test)\n",
        "    pr = PRRegressor(pr_args, theta_lr, trainset, evalset)\n",
        "    pr.train(pr_args.n_epoch)\n",
        "    dict_pr = evaluate_method(pr, X_test, y_test, \"Personalized Regression\", U_test)\n",
        "    dict_list.append(dict_pr) \n",
        "\n",
        "    for x in dict_list:\n",
        "        print_metrics(x)\n",
        "\n",
        "\n",
        "if __name__ == \"__main__\":\n",
        "    main()"
      ],
      "execution_count": null,
      "outputs": [
        {
          "output_type": "stream",
          "text": [
            "    school sex  age address famsize Pstatus  ...  Walc  health absences  G1  G2  G3\n",
            "0       GP   F   18       U     GT3       A  ...     1       3        4   0  11  11\n",
            "1       GP   F   17       U     GT3       T  ...     1       3        2   9  11  11\n",
            "2       GP   F   15       U     LE3       T  ...     3       3        6  12  13  12\n",
            "3       GP   F   15       U     GT3       T  ...     1       5        0  14  14  14\n",
            "4       GP   F   16       U     GT3       T  ...     2       5        0  11  13  13\n",
            "..     ...  ..  ...     ...     ...     ...  ...   ...     ...      ...  ..  ..  ..\n",
            "644     MS   F   19       R     GT3       T  ...     2       5        4  10  11  10\n",
            "645     MS   F   18       U     LE3       T  ...     1       1        4  15  15  16\n",
            "646     MS   F   18       U     GT3       T  ...     1       5        6  11  12   9\n",
            "647     MS   M   17       U     LE3       T  ...     4       2        6  10  10  10\n",
            "648     MS   M   18       R     LE3       T  ...     4       5        4  10  11  11\n",
            "\n",
            "[649 rows x 33 columns]\n",
            "(649, 1)\n"
          ],
          "name": "stdout"
        },
        {
          "output_type": "display_data",
          "data": {
            "image/png": "[encoded data removed]",
            "text/plain": [
              "<Figure size 432x288 with 1 Axes>"
            ]
          },
          "metadata": {
            "tags": [],
            "needs_background": "light"
          }
        },
        {
          "output_type": "stream",
          "text": [
            "/usr/local/lib/python3.6/dist-packages/torch/nn/modules/loss.py:446: UserWarning: Using a target size (torch.Size([434, 1])) that is different to the input size (torch.Size([434])). This will likely lead to incorrect results due to broadcasting. Please ensure they have the same size.\n",
            "  return F.mse_loss(input, target, reduction=self.reduction)\n",
            "/usr/local/lib/python3.6/dist-packages/torch/nn/modules/loss.py:446: UserWarning: Using a target size (torch.Size([434, 1])) that is different to the input size (torch.Size([434])). This will likely lead to incorrect results due to broadcasting. Please ensure they have the same size.\n",
            "  return F.mse_loss(input, target, reduction=self.reduction)\n"
          ],
          "name": "stderr"
        },
        {
          "output_type": "stream",
          "text": [
            "--------------------\n",
            "Epoch 1 - Total loss: 14.64652627952575\tDistance loss:0\n",
            "\n",
            "method_name:\tPersonalized Regression\n",
            "MSE:\t7.822353998083331\n",
            "R2:\t0.25768043595972556\n",
            "\n",
            "--------------------\n",
            "--------------------\n",
            "Epoch 101 - Total loss: 12.94558140035771\tDistance loss:0\n",
            "\n",
            "method_name:\tPersonalized Regression\n",
            "MSE:\t7.927129024317691\n",
            "R2:\t0.24773757837291022\n",
            "\n",
            "--------------------\n"
          ],
          "name": "stdout"
        },
        {
          "output_type": "stream",
          "text": [
            "/usr/local/lib/python3.6/dist-packages/torch/nn/modules/loss.py:446: UserWarning: Using a target size (torch.Size([434, 1])) that is different to the input size (torch.Size([434])). This will likely lead to incorrect results due to broadcasting. Please ensure they have the same size.\n",
            "  return F.mse_loss(input, target, reduction=self.reduction)\n"
          ],
          "name": "stderr"
        },
        {
          "output_type": "stream",
          "text": [
            "--------------------\n",
            "Epoch 201 - Total loss: 11.551554595041178\tDistance loss:0\n",
            "\n",
            "method_name:\tPersonalized Regression\n",
            "MSE:\t8.485672361282438\n",
            "R2:\t0.1947333744600135\n",
            "\n",
            "--------------------\n"
          ],
          "name": "stdout"
        },
        {
          "output_type": "stream",
          "text": [
            "/usr/local/lib/python3.6/dist-packages/torch/nn/modules/loss.py:446: UserWarning: Using a target size (torch.Size([434, 1])) that is different to the input size (torch.Size([434])). This will likely lead to incorrect results due to broadcasting. Please ensure they have the same size.\n",
            "  return F.mse_loss(input, target, reduction=self.reduction)\n"
          ],
          "name": "stderr"
        },
        {
          "output_type": "stream",
          "text": [
            "--------------------\n",
            "Epoch 301 - Total loss: 10.817067471268023\tDistance loss:0\n",
            "\n",
            "method_name:\tPersonalized Regression\n",
            "MSE:\t9.673911183167988\n",
            "R2:\t0.08197282636235204\n",
            "\n",
            "--------------------\n"
          ],
          "name": "stdout"
        },
        {
          "output_type": "stream",
          "text": [
            "/usr/local/lib/python3.6/dist-packages/torch/nn/modules/loss.py:446: UserWarning: Using a target size (torch.Size([434, 1])) that is different to the input size (torch.Size([434])). This will likely lead to incorrect results due to broadcasting. Please ensure they have the same size.\n",
            "  return F.mse_loss(input, target, reduction=self.reduction)\n"
          ],
          "name": "stderr"
        },
        {
          "output_type": "stream",
          "text": [
            "--------------------\n",
            "Epoch 401 - Total loss: 10.516019954713338\tDistance loss:0\n",
            "\n",
            "method_name:\tPersonalized Regression\n",
            "MSE:\t10.293128010319654\n",
            "R2:\t0.023210877556371856\n",
            "\n",
            "--------------------\n"
          ],
          "name": "stdout"
        },
        {
          "output_type": "stream",
          "text": [
            "/usr/local/lib/python3.6/dist-packages/torch/nn/modules/loss.py:446: UserWarning: Using a target size (torch.Size([434, 1])) that is different to the input size (torch.Size([434])). This will likely lead to incorrect results due to broadcasting. Please ensure they have the same size.\n",
            "  return F.mse_loss(input, target, reduction=self.reduction)\n"
          ],
          "name": "stderr"
        },
        {
          "output_type": "stream",
          "text": [
            "--------------------\n",
            "Epoch 501 - Total loss: 10.406798128791811\tDistance loss:0\n",
            "\n",
            "method_name:\tPersonalized Regression\n",
            "MSE:\t10.574484483298477\n",
            "R2:\t-0.0034890665285831624\n",
            "\n",
            "--------------------\n"
          ],
          "name": "stdout"
        },
        {
          "output_type": "stream",
          "text": [
            "/usr/local/lib/python3.6/dist-packages/torch/nn/modules/loss.py:446: UserWarning: Using a target size (torch.Size([434, 1])) that is different to the input size (torch.Size([434])). This will likely lead to incorrect results due to broadcasting. Please ensure they have the same size.\n",
            "  return F.mse_loss(input, target, reduction=self.reduction)\n"
          ],
          "name": "stderr"
        },
        {
          "output_type": "stream",
          "text": [
            "--------------------\n",
            "Epoch 601 - Total loss: 10.363670227371886\tDistance loss:0\n",
            "\n",
            "method_name:\tPersonalized Regression\n",
            "MSE:\t10.707121220809471\n",
            "R2:\t-0.016075922759969608\n",
            "\n",
            "--------------------\n"
          ],
          "name": "stdout"
        },
        {
          "output_type": "stream",
          "text": [
            "/usr/local/lib/python3.6/dist-packages/torch/nn/modules/loss.py:446: UserWarning: Using a target size (torch.Size([434, 1])) that is different to the input size (torch.Size([434])). This will likely lead to incorrect results due to broadcasting. Please ensure they have the same size.\n",
            "  return F.mse_loss(input, target, reduction=self.reduction)\n"
          ],
          "name": "stderr"
        },
        {
          "output_type": "stream",
          "text": [
            "--------------------\n",
            "Epoch 701 - Total loss: 10.345953087848404\tDistance loss:0\n",
            "\n",
            "method_name:\tPersonalized Regression\n",
            "MSE:\t10.770491708728628\n",
            "R2:\t-0.022089605211146557\n",
            "\n",
            "--------------------\n"
          ],
          "name": "stdout"
        },
        {
          "output_type": "stream",
          "text": [
            "/usr/local/lib/python3.6/dist-packages/torch/nn/modules/loss.py:446: UserWarning: Using a target size (torch.Size([434, 1])) that is different to the input size (torch.Size([434])). This will likely lead to incorrect results due to broadcasting. Please ensure they have the same size.\n",
            "  return F.mse_loss(input, target, reduction=self.reduction)\n"
          ],
          "name": "stderr"
        },
        {
          "output_type": "stream",
          "text": [
            "--------------------\n",
            "Epoch 801 - Total loss: 10.339842780397598\tDistance loss:0\n",
            "\n",
            "method_name:\tPersonalized Regression\n",
            "MSE:\t10.798105533831722\n",
            "R2:\t-0.024710080149641378\n",
            "\n",
            "--------------------\n"
          ],
          "name": "stdout"
        },
        {
          "output_type": "stream",
          "text": [
            "/usr/local/lib/python3.6/dist-packages/torch/nn/modules/loss.py:446: UserWarning: Using a target size (torch.Size([434, 1])) that is different to the input size (torch.Size([434])). This will likely lead to incorrect results due to broadcasting. Please ensure they have the same size.\n",
            "  return F.mse_loss(input, target, reduction=self.reduction)\n"
          ],
          "name": "stderr"
        },
        {
          "output_type": "stream",
          "text": [
            "--------------------\n",
            "Epoch 901 - Total loss: 10.337320462592087\tDistance loss:0\n",
            "\n",
            "method_name:\tPersonalized Regression\n",
            "MSE:\t10.808371246150195\n",
            "R2:\t-0.02568426759943976\n",
            "\n",
            "--------------------\n"
          ],
          "name": "stdout"
        },
        {
          "output_type": "stream",
          "text": [
            "/usr/local/lib/python3.6/dist-packages/torch/nn/modules/loss.py:446: UserWarning: Using a target size (torch.Size([434, 1])) that is different to the input size (torch.Size([434])). This will likely lead to incorrect results due to broadcasting. Please ensure they have the same size.\n",
            "  return F.mse_loss(input, target, reduction=self.reduction)\n"
          ],
          "name": "stderr"
        },
        {
          "output_type": "stream",
          "text": [
            "--------------------\n",
            "Epoch 1001 - Total loss: 10.3361393479905\tDistance loss:0\n",
            "\n",
            "method_name:\tPersonalized Regression\n",
            "MSE:\t10.810914641952019\n",
            "R2:\t-0.025925628763004305\n",
            "\n",
            "--------------------\n"
          ],
          "name": "stdout"
        },
        {
          "output_type": "stream",
          "text": [
            "/usr/local/lib/python3.6/dist-packages/torch/nn/modules/loss.py:446: UserWarning: Using a target size (torch.Size([434, 1])) that is different to the input size (torch.Size([434])). This will likely lead to incorrect results due to broadcasting. Please ensure they have the same size.\n",
            "  return F.mse_loss(input, target, reduction=self.reduction)\n"
          ],
          "name": "stderr"
        },
        {
          "output_type": "stream",
          "text": [
            "--------------------\n",
            "Epoch 1101 - Total loss: 10.335558417499943\tDistance loss:0\n",
            "\n",
            "method_name:\tPersonalized Regression\n",
            "MSE:\t10.810016282809825\n",
            "R2:\t-0.025840376987522395\n",
            "\n",
            "--------------------\n"
          ],
          "name": "stdout"
        },
        {
          "output_type": "stream",
          "text": [
            "/usr/local/lib/python3.6/dist-packages/torch/nn/modules/loss.py:446: UserWarning: Using a target size (torch.Size([434, 1])) that is different to the input size (torch.Size([434])). This will likely lead to incorrect results due to broadcasting. Please ensure they have the same size.\n",
            "  return F.mse_loss(input, target, reduction=self.reduction)\n"
          ],
          "name": "stderr"
        },
        {
          "output_type": "stream",
          "text": [
            "--------------------\n",
            "Epoch 1201 - Total loss: 10.335261911546457\tDistance loss:0\n",
            "\n",
            "method_name:\tPersonalized Regression\n",
            "MSE:\t10.807751368050585\n",
            "R2:\t-0.02562544289772295\n",
            "\n",
            "--------------------\n"
          ],
          "name": "stdout"
        },
        {
          "output_type": "stream",
          "text": [
            "/usr/local/lib/python3.6/dist-packages/torch/nn/modules/loss.py:446: UserWarning: Using a target size (torch.Size([434, 1])) that is different to the input size (torch.Size([434])). This will likely lead to incorrect results due to broadcasting. Please ensure they have the same size.\n",
            "  return F.mse_loss(input, target, reduction=self.reduction)\n"
          ],
          "name": "stderr"
        },
        {
          "output_type": "stream",
          "text": [
            "--------------------\n",
            "Epoch 1301 - Total loss: 10.335106089002577\tDistance loss:0\n",
            "\n",
            "method_name:\tPersonalized Regression\n",
            "MSE:\t10.805129516005954\n",
            "R2:\t-0.02537663645566912\n",
            "\n",
            "--------------------\n"
          ],
          "name": "stdout"
        },
        {
          "output_type": "stream",
          "text": [
            "/usr/local/lib/python3.6/dist-packages/torch/nn/modules/loss.py:446: UserWarning: Using a target size (torch.Size([434, 1])) that is different to the input size (torch.Size([434])). This will likely lead to incorrect results due to broadcasting. Please ensure they have the same size.\n",
            "  return F.mse_loss(input, target, reduction=self.reduction)\n"
          ],
          "name": "stderr"
        },
        {
          "output_type": "stream",
          "text": [
            "--------------------\n",
            "Epoch 1401 - Total loss: 10.335022184202499\tDistance loss:0\n",
            "\n",
            "method_name:\tPersonalized Regression\n",
            "MSE:\t10.802617291423237\n",
            "R2:\t-0.02513823335380616\n",
            "\n",
            "--------------------\n"
          ],
          "name": "stdout"
        },
        {
          "output_type": "stream",
          "text": [
            "/usr/local/lib/python3.6/dist-packages/torch/nn/modules/loss.py:446: UserWarning: Using a target size (torch.Size([434, 1])) that is different to the input size (torch.Size([434])). This will likely lead to incorrect results due to broadcasting. Please ensure they have the same size.\n",
            "  return F.mse_loss(input, target, reduction=self.reduction)\n"
          ],
          "name": "stderr"
        },
        {
          "output_type": "stream",
          "text": [
            "--------------------\n",
            "Epoch 1501 - Total loss: 10.334976041460333\tDistance loss:0\n",
            "\n",
            "method_name:\tPersonalized Regression\n",
            "MSE:\t10.800403962180788\n",
            "R2:\t-0.024928194585586816\n",
            "\n",
            "--------------------\n"
          ],
          "name": "stdout"
        },
        {
          "output_type": "stream",
          "text": [
            "/usr/local/lib/python3.6/dist-packages/torch/nn/modules/loss.py:446: UserWarning: Using a target size (torch.Size([434, 1])) that is different to the input size (torch.Size([434])). This will likely lead to incorrect results due to broadcasting. Please ensure they have the same size.\n",
            "  return F.mse_loss(input, target, reduction=self.reduction)\n"
          ],
          "name": "stderr"
        },
        {
          "output_type": "stream",
          "text": [
            "--------------------\n",
            "Epoch 1601 - Total loss: 10.334950188629037\tDistance loss:0\n",
            "\n",
            "method_name:\tPersonalized Regression\n",
            "MSE:\t10.798541146256786\n",
            "R2:\t-0.024751418553086824\n",
            "\n",
            "--------------------\n"
          ],
          "name": "stdout"
        },
        {
          "output_type": "stream",
          "text": [
            "/usr/local/lib/python3.6/dist-packages/torch/nn/modules/loss.py:446: UserWarning: Using a target size (torch.Size([434, 1])) that is different to the input size (torch.Size([434])). This will likely lead to incorrect results due to broadcasting. Please ensure they have the same size.\n",
            "  return F.mse_loss(input, target, reduction=self.reduction)\n"
          ],
          "name": "stderr"
        },
        {
          "output_type": "stream",
          "text": [
            "--------------------\n",
            "Epoch 1701 - Total loss: 10.334935462751332\tDistance loss:0\n",
            "\n",
            "method_name:\tPersonalized Regression\n",
            "MSE:\t10.797015941263295\n",
            "R2:\t-0.02460668085569817\n",
            "\n",
            "--------------------\n"
          ],
          "name": "stdout"
        },
        {
          "output_type": "stream",
          "text": [
            "/usr/local/lib/python3.6/dist-packages/torch/nn/modules/loss.py:446: UserWarning: Using a target size (torch.Size([434, 1])) that is different to the input size (torch.Size([434])). This will likely lead to incorrect results due to broadcasting. Please ensure they have the same size.\n",
            "  return F.mse_loss(input, target, reduction=self.reduction)\n"
          ],
          "name": "stderr"
        },
        {
          "output_type": "stream",
          "text": [
            "--------------------\n",
            "Epoch 1801 - Total loss: 10.334926952217154\tDistance loss:0\n",
            "\n",
            "method_name:\tPersonalized Regression\n",
            "MSE:\t10.795788861882626\n",
            "R2:\t-0.024490234446967074\n",
            "\n",
            "--------------------\n"
          ],
          "name": "stdout"
        },
        {
          "output_type": "stream",
          "text": [
            "/usr/local/lib/python3.6/dist-packages/torch/nn/modules/loss.py:446: UserWarning: Using a target size (torch.Size([434, 1])) that is different to the input size (torch.Size([434])). This will likely lead to incorrect results due to broadcasting. Please ensure they have the same size.\n",
            "  return F.mse_loss(input, target, reduction=self.reduction)\n"
          ],
          "name": "stderr"
        },
        {
          "output_type": "stream",
          "text": [
            "--------------------\n",
            "Epoch 1901 - Total loss: 10.334921971089834\tDistance loss:0\n",
            "\n",
            "method_name:\tPersonalized Regression\n",
            "MSE:\t10.794812883422352\n",
            "R2:\t-0.02439761681481678\n",
            "\n",
            "--------------------\n"
          ],
          "name": "stdout"
        },
        {
          "output_type": "stream",
          "text": [
            "/usr/local/lib/python3.6/dist-packages/torch/nn/modules/loss.py:446: UserWarning: Using a target size (torch.Size([434, 1])) that is different to the input size (torch.Size([434])). This will likely lead to incorrect results due to broadcasting. Please ensure they have the same size.\n",
            "  return F.mse_loss(input, target, reduction=self.reduction)\n"
          ],
          "name": "stderr"
        },
        {
          "output_type": "stream",
          "text": [
            "--------------------\n",
            "Epoch 2001 - Total loss: 10.334919023520312\tDistance loss:0\n",
            "\n",
            "method_name:\tPersonalized Regression\n",
            "MSE:\t10.79404244219376\n",
            "R2:\t-0.024324504092346322\n",
            "\n",
            "--------------------\n"
          ],
          "name": "stdout"
        },
        {
          "output_type": "stream",
          "text": [
            "/usr/local/lib/python3.6/dist-packages/torch/nn/modules/loss.py:446: UserWarning: Using a target size (torch.Size([434, 1])) that is different to the input size (torch.Size([434])). This will likely lead to incorrect results due to broadcasting. Please ensure they have the same size.\n",
            "  return F.mse_loss(input, target, reduction=self.reduction)\n"
          ],
          "name": "stderr"
        },
        {
          "output_type": "stream",
          "text": [
            "--------------------\n",
            "Epoch 2101 - Total loss: 10.334917262671743\tDistance loss:0\n",
            "\n",
            "method_name:\tPersonalized Regression\n",
            "MSE:\t10.793437196048204\n",
            "R2:\t-0.024267067922234986\n",
            "\n",
            "--------------------\n"
          ],
          "name": "stdout"
        },
        {
          "output_type": "stream",
          "text": [
            "/usr/local/lib/python3.6/dist-packages/torch/nn/modules/loss.py:446: UserWarning: Using a target size (torch.Size([434, 1])) that is different to the input size (torch.Size([434])). This will likely lead to incorrect results due to broadcasting. Please ensure they have the same size.\n",
            "  return F.mse_loss(input, target, reduction=self.reduction)\n"
          ],
          "name": "stderr"
        },
        {
          "output_type": "stream",
          "text": [
            "--------------------\n",
            "Epoch 2201 - Total loss: 10.334916202078533\tDistance loss:0\n",
            "\n",
            "method_name:\tPersonalized Regression\n",
            "MSE:\t10.792963131358155\n",
            "R2:\t-0.02422208050615393\n",
            "\n",
            "--------------------\n"
          ],
          "name": "stdout"
        },
        {
          "output_type": "stream",
          "text": [
            "/usr/local/lib/python3.6/dist-packages/torch/nn/modules/loss.py:446: UserWarning: Using a target size (torch.Size([434, 1])) that is different to the input size (torch.Size([434])). This will likely lead to incorrect results due to broadcasting. Please ensure they have the same size.\n",
            "  return F.mse_loss(input, target, reduction=self.reduction)\n"
          ],
          "name": "stderr"
        },
        {
          "output_type": "stream",
          "text": [
            "--------------------\n",
            "Epoch 2301 - Total loss: 10.33491555867502\tDistance loss:0\n",
            "\n",
            "method_name:\tPersonalized Regression\n",
            "MSE:\t10.79259240452617\n",
            "R2:\t-0.024186899564411224\n",
            "\n",
            "--------------------\n"
          ],
          "name": "stdout"
        },
        {
          "output_type": "stream",
          "text": [
            "/usr/local/lib/python3.6/dist-packages/torch/nn/modules/loss.py:446: UserWarning: Using a target size (torch.Size([434, 1])) that is different to the input size (torch.Size([434])). This will likely lead to incorrect results due to broadcasting. Please ensure they have the same size.\n",
            "  return F.mse_loss(input, target, reduction=self.reduction)\n"
          ],
          "name": "stderr"
        },
        {
          "output_type": "stream",
          "text": [
            "--------------------\n",
            "Epoch 2401 - Total loss: 10.334915165891564\tDistance loss:0\n",
            "\n",
            "method_name:\tPersonalized Regression\n",
            "MSE:\t10.792302649962703\n",
            "R2:\t-0.024159402664976293\n",
            "\n",
            "--------------------\n"
          ],
          "name": "stdout"
        },
        {
          "output_type": "stream",
          "text": [
            "/usr/local/lib/python3.6/dist-packages/torch/nn/modules/loss.py:446: UserWarning: Using a target size (torch.Size([434, 1])) that is different to the input size (torch.Size([434])). This will likely lead to incorrect results due to broadcasting. Please ensure they have the same size.\n",
            "  return F.mse_loss(input, target, reduction=self.reduction)\n"
          ],
          "name": "stderr"
        },
        {
          "output_type": "stream",
          "text": [
            "--------------------\n",
            "Epoch 2501 - Total loss: 10.334914924751352\tDistance loss:0\n",
            "\n",
            "method_name:\tPersonalized Regression\n",
            "MSE:\t10.79207612080117\n",
            "R2:\t-0.02413790567973706\n",
            "\n",
            "--------------------\n"
          ],
          "name": "stdout"
        },
        {
          "output_type": "stream",
          "text": [
            "/usr/local/lib/python3.6/dist-packages/torch/nn/modules/loss.py:446: UserWarning: Using a target size (torch.Size([434, 1])) that is different to the input size (torch.Size([434])). This will likely lead to incorrect results due to broadcasting. Please ensure they have the same size.\n",
            "  return F.mse_loss(input, target, reduction=self.reduction)\n"
          ],
          "name": "stderr"
        },
        {
          "output_type": "stream",
          "text": [
            "--------------------\n",
            "Epoch 2601 - Total loss: 10.334914775937586\tDistance loss:0\n",
            "\n",
            "method_name:\tPersonalized Regression\n",
            "MSE:\t10.791898878776534\n",
            "R2:\t-0.024121085906240625\n",
            "\n",
            "--------------------\n"
          ],
          "name": "stdout"
        },
        {
          "output_type": "stream",
          "text": [
            "/usr/local/lib/python3.6/dist-packages/torch/nn/modules/loss.py:446: UserWarning: Using a target size (torch.Size([434, 1])) that is different to the input size (torch.Size([434])). This will likely lead to incorrect results due to broadcasting. Please ensure they have the same size.\n",
            "  return F.mse_loss(input, target, reduction=self.reduction)\n"
          ],
          "name": "stderr"
        },
        {
          "output_type": "stream",
          "text": [
            "--------------------\n",
            "Epoch 2701 - Total loss: 10.334914683643701\tDistance loss:0\n",
            "\n",
            "method_name:\tPersonalized Regression\n",
            "MSE:\t10.791760008352504\n",
            "R2:\t-0.02410790749055547\n",
            "\n",
            "--------------------\n"
          ],
          "name": "stdout"
        },
        {
          "output_type": "stream",
          "text": [
            "/usr/local/lib/python3.6/dist-packages/torch/nn/modules/loss.py:446: UserWarning: Using a target size (torch.Size([434, 1])) that is different to the input size (torch.Size([434])). This will likely lead to incorrect results due to broadcasting. Please ensure they have the same size.\n",
            "  return F.mse_loss(input, target, reduction=self.reduction)\n"
          ],
          "name": "stderr"
        },
        {
          "output_type": "stream",
          "text": [
            "--------------------\n",
            "Epoch 2801 - Total loss: 10.334914626115504\tDistance loss:0\n",
            "\n",
            "method_name:\tPersonalized Regression\n",
            "MSE:\t10.79165100251315\n",
            "R2:\t-0.024097563140610845\n",
            "\n",
            "--------------------\n"
          ],
          "name": "stdout"
        },
        {
          "output_type": "stream",
          "text": [
            "/usr/local/lib/python3.6/dist-packages/torch/nn/modules/loss.py:446: UserWarning: Using a target size (torch.Size([434, 1])) that is different to the input size (torch.Size([434])). This will likely lead to incorrect results due to broadcasting. Please ensure they have the same size.\n",
            "  return F.mse_loss(input, target, reduction=self.reduction)\n"
          ],
          "name": "stderr"
        },
        {
          "output_type": "stream",
          "text": [
            "--------------------\n",
            "Epoch 2901 - Total loss: 10.334914590062262\tDistance loss:0\n",
            "\n",
            "method_name:\tPersonalized Regression\n",
            "MSE:\t10.791565246461143\n",
            "R2:\t-0.024089425130600528\n",
            "\n",
            "--------------------\n"
          ],
          "name": "stdout"
        },
        {
          "output_type": "stream",
          "text": [
            "/usr/local/lib/python3.6/dist-packages/torch/nn/modules/loss.py:446: UserWarning: Using a target size (torch.Size([434, 1])) that is different to the input size (torch.Size([434])). This will likely lead to incorrect results due to broadcasting. Please ensure they have the same size.\n",
            "  return F.mse_loss(input, target, reduction=self.reduction)\n"
          ],
          "name": "stderr"
        },
        {
          "output_type": "stream",
          "text": [
            "--------------------\n",
            "Epoch 3001 - Total loss: 10.334914567324038\tDistance loss:0\n",
            "\n",
            "method_name:\tPersonalized Regression\n",
            "MSE:\t10.791497602241602\n",
            "R2:\t-0.02408300588294532\n",
            "\n",
            "--------------------\n"
          ],
          "name": "stdout"
        },
        {
          "output_type": "stream",
          "text": [
            "/usr/local/lib/python3.6/dist-packages/torch/nn/modules/loss.py:446: UserWarning: Using a target size (torch.Size([434, 1])) that is different to the input size (torch.Size([434])). This will likely lead to incorrect results due to broadcasting. Please ensure they have the same size.\n",
            "  return F.mse_loss(input, target, reduction=self.reduction)\n"
          ],
          "name": "stderr"
        },
        {
          "output_type": "stream",
          "text": [
            "--------------------\n",
            "Epoch 3101 - Total loss: 10.334914552869193\tDistance loss:0\n",
            "\n",
            "method_name:\tPersonalized Regression\n",
            "MSE:\t10.791444080272854\n",
            "R2:\t-0.024077926797478444\n",
            "\n",
            "--------------------\n"
          ],
          "name": "stdout"
        },
        {
          "output_type": "stream",
          "text": [
            "/usr/local/lib/python3.6/dist-packages/torch/nn/modules/loss.py:446: UserWarning: Using a target size (torch.Size([434, 1])) that is different to the input size (torch.Size([434])). This will likely lead to incorrect results due to broadcasting. Please ensure they have the same size.\n",
            "  return F.mse_loss(input, target, reduction=self.reduction)\n"
          ],
          "name": "stderr"
        },
        {
          "output_type": "stream",
          "text": [
            "--------------------\n",
            "Epoch 3201 - Total loss: 10.33491454358308\tDistance loss:0\n",
            "\n",
            "method_name:\tPersonalized Regression\n",
            "MSE:\t10.791401581922354\n",
            "R2:\t-0.024073893822619263\n",
            "\n",
            "--------------------\n"
          ],
          "name": "stdout"
        },
        {
          "output_type": "stream",
          "text": [
            "/usr/local/lib/python3.6/dist-packages/torch/nn/modules/loss.py:446: UserWarning: Using a target size (torch.Size([434, 1])) that is different to the input size (torch.Size([434])). This will likely lead to incorrect results due to broadcasting. Please ensure they have the same size.\n",
            "  return F.mse_loss(input, target, reduction=self.reduction)\n"
          ],
          "name": "stderr"
        },
        {
          "output_type": "stream",
          "text": [
            "--------------------\n",
            "Epoch 3301 - Total loss: 10.334914537531024\tDistance loss:0\n",
            "\n",
            "method_name:\tPersonalized Regression\n",
            "MSE:\t10.791367698959228\n",
            "R2:\t-0.02407067842397792\n",
            "\n",
            "--------------------\n"
          ],
          "name": "stdout"
        },
        {
          "output_type": "stream",
          "text": [
            "/usr/local/lib/python3.6/dist-packages/torch/nn/modules/loss.py:446: UserWarning: Using a target size (torch.Size([434, 1])) that is different to the input size (torch.Size([434])). This will likely lead to incorrect results due to broadcasting. Please ensure they have the same size.\n",
            "  return F.mse_loss(input, target, reduction=self.reduction)\n"
          ],
          "name": "stderr"
        },
        {
          "output_type": "stream",
          "text": [
            "--------------------\n",
            "Epoch 3401 - Total loss: 10.334914533507538\tDistance loss:0\n",
            "\n",
            "method_name:\tPersonalized Regression\n",
            "MSE:\t10.79134055793504\n",
            "R2:\t-0.024068102816526826\n",
            "\n",
            "--------------------\n"
          ],
          "name": "stdout"
        },
        {
          "output_type": "stream",
          "text": [
            "/usr/local/lib/python3.6/dist-packages/torch/nn/modules/loss.py:446: UserWarning: Using a target size (torch.Size([434, 1])) that is different to the input size (torch.Size([434])). This will likely lead to incorrect results due to broadcasting. Please ensure they have the same size.\n",
            "  return F.mse_loss(input, target, reduction=self.reduction)\n"
          ],
          "name": "stderr"
        },
        {
          "output_type": "stream",
          "text": [
            "--------------------\n",
            "Epoch 3501 - Total loss: 10.33491453075938\tDistance loss:0\n",
            "\n",
            "method_name:\tPersonalized Regression\n",
            "MSE:\t10.79131869972673\n",
            "R2:\t-0.024066028533559658\n",
            "\n",
            "--------------------\n"
          ],
          "name": "stdout"
        },
        {
          "output_type": "stream",
          "text": [
            "/usr/local/lib/python3.6/dist-packages/torch/nn/modules/loss.py:446: UserWarning: Using a target size (torch.Size([434, 1])) that is different to the input size (torch.Size([434])). This will likely lead to incorrect results due to broadcasting. Please ensure they have the same size.\n",
            "  return F.mse_loss(input, target, reduction=self.reduction)\n"
          ],
          "name": "stderr"
        },
        {
          "output_type": "stream",
          "text": [
            "--------------------\n",
            "Epoch 3601 - Total loss: 10.334914528814677\tDistance loss:0\n",
            "\n",
            "method_name:\tPersonalized Regression\n",
            "MSE:\t10.7913009864229\n",
            "R2:\t-0.024064347590459834\n",
            "\n",
            "--------------------\n"
          ],
          "name": "stdout"
        },
        {
          "output_type": "stream",
          "text": [
            "/usr/local/lib/python3.6/dist-packages/torch/nn/modules/loss.py:446: UserWarning: Using a target size (torch.Size([434, 1])) that is different to the input size (torch.Size([434])). This will likely lead to incorrect results due to broadcasting. Please ensure they have the same size.\n",
            "  return F.mse_loss(input, target, reduction=self.reduction)\n"
          ],
          "name": "stderr"
        },
        {
          "output_type": "stream",
          "text": [
            "--------------------\n",
            "Epoch 3701 - Total loss: 10.334914527377126\tDistance loss:0\n",
            "\n",
            "method_name:\tPersonalized Regression\n",
            "MSE:\t10.791286529382418\n",
            "R2:\t-0.024062975657664243\n",
            "\n",
            "--------------------\n"
          ],
          "name": "stdout"
        },
        {
          "output_type": "stream",
          "text": [
            "/usr/local/lib/python3.6/dist-packages/torch/nn/modules/loss.py:446: UserWarning: Using a target size (torch.Size([434, 1])) that is different to the input size (torch.Size([434])). This will likely lead to incorrect results due to broadcasting. Please ensure they have the same size.\n",
            "  return F.mse_loss(input, target, reduction=self.reduction)\n"
          ],
          "name": "stderr"
        },
        {
          "output_type": "stream",
          "text": [
            "--------------------\n",
            "Epoch 3801 - Total loss: 10.334914526260267\tDistance loss:0\n",
            "\n",
            "method_name:\tPersonalized Regression\n",
            "MSE:\t10.791274633642455\n",
            "R2:\t-0.024061846785140117\n",
            "\n",
            "--------------------\n"
          ],
          "name": "stdout"
        },
        {
          "output_type": "stream",
          "text": [
            "/usr/local/lib/python3.6/dist-packages/torch/nn/modules/loss.py:446: UserWarning: Using a target size (torch.Size([434, 1])) that is different to the input size (torch.Size([434])). This will likely lead to incorrect results due to broadcasting. Please ensure they have the same size.\n",
            "  return F.mse_loss(input, target, reduction=self.reduction)\n"
          ],
          "name": "stderr"
        },
        {
          "output_type": "stream",
          "text": [
            "--------------------\n",
            "Epoch 3901 - Total loss: 10.334914525346532\tDistance loss:0\n",
            "\n",
            "method_name:\tPersonalized Regression\n",
            "MSE:\t10.791264754932786\n",
            "R2:\t-0.024060909323161628\n",
            "\n",
            "--------------------\n"
          ],
          "name": "stdout"
        },
        {
          "output_type": "stream",
          "text": [
            "/usr/local/lib/python3.6/dist-packages/torch/nn/modules/loss.py:446: UserWarning: Using a target size (torch.Size([434, 1])) that is different to the input size (torch.Size([434])). This will likely lead to incorrect results due to broadcasting. Please ensure they have the same size.\n",
            "  return F.mse_loss(input, target, reduction=self.reduction)\n"
          ],
          "name": "stderr"
        },
        {
          "output_type": "stream",
          "text": [
            "--------------------\n",
            "Epoch 4001 - Total loss: 10.334914524561654\tDistance loss:0\n",
            "\n",
            "method_name:\tPersonalized Regression\n",
            "MSE:\t10.791256466404144\n",
            "R2:\t-0.024060122764924863\n",
            "\n",
            "--------------------\n"
          ],
          "name": "stdout"
        },
        {
          "output_type": "stream",
          "text": [
            "/usr/local/lib/python3.6/dist-packages/torch/nn/modules/loss.py:446: UserWarning: Using a target size (torch.Size([434, 1])) that is different to the input size (torch.Size([434])). This will likely lead to incorrect results due to broadcasting. Please ensure they have the same size.\n",
            "  return F.mse_loss(input, target, reduction=self.reduction)\n"
          ],
          "name": "stderr"
        },
        {
          "output_type": "stream",
          "text": [
            "--------------------\n",
            "Epoch 4101 - Total loss: 10.334914523858638\tDistance loss:0\n",
            "\n",
            "method_name:\tPersonalized Regression\n",
            "MSE:\t10.791249432842612\n",
            "R2:\t-0.024059455299564547\n",
            "\n",
            "--------------------\n"
          ],
          "name": "stdout"
        },
        {
          "output_type": "stream",
          "text": [
            "/usr/local/lib/python3.6/dist-packages/torch/nn/modules/loss.py:446: UserWarning: Using a target size (torch.Size([434, 1])) that is different to the input size (torch.Size([434])). This will likely lead to incorrect results due to broadcasting. Please ensure they have the same size.\n",
            "  return F.mse_loss(input, target, reduction=self.reduction)\n"
          ],
          "name": "stderr"
        },
        {
          "output_type": "stream",
          "text": [
            "--------------------\n",
            "Epoch 4201 - Total loss: 10.334914523207695\tDistance loss:0\n",
            "\n",
            "method_name:\tPersonalized Regression\n",
            "MSE:\t10.791243390656653\n",
            "R2:\t-0.024058881912979224\n",
            "\n",
            "--------------------\n"
          ],
          "name": "stdout"
        },
        {
          "output_type": "stream",
          "text": [
            "/usr/local/lib/python3.6/dist-packages/torch/nn/modules/loss.py:446: UserWarning: Using a target size (torch.Size([434, 1])) that is different to the input size (torch.Size([434])). This will likely lead to incorrect results due to broadcasting. Please ensure they have the same size.\n",
            "  return F.mse_loss(input, target, reduction=self.reduction)\n"
          ],
          "name": "stderr"
        },
        {
          "output_type": "stream",
          "text": [
            "--------------------\n",
            "Epoch 4301 - Total loss: 10.334914522589925\tDistance loss:0\n",
            "\n",
            "method_name:\tPersonalized Regression\n",
            "MSE:\t10.791238132320062\n",
            "R2:\t-0.024058382911511744\n",
            "\n",
            "--------------------\n"
          ],
          "name": "stdout"
        },
        {
          "output_type": "stream",
          "text": [
            "/usr/local/lib/python3.6/dist-packages/torch/nn/modules/loss.py:446: UserWarning: Using a target size (torch.Size([434, 1])) that is different to the input size (torch.Size([434])). This will likely lead to incorrect results due to broadcasting. Please ensure they have the same size.\n",
            "  return F.mse_loss(input, target, reduction=self.reduction)\n"
          ],
          "name": "stderr"
        },
        {
          "output_type": "stream",
          "text": [
            "--------------------\n",
            "Epoch 4401 - Total loss: 10.334914521993309\tDistance loss:0\n",
            "\n",
            "method_name:\tPersonalized Regression\n",
            "MSE:\t10.791233494258895\n",
            "R2:\t-0.02405794277245077\n",
            "\n",
            "--------------------\n"
          ],
          "name": "stdout"
        },
        {
          "output_type": "stream",
          "text": [
            "/usr/local/lib/python3.6/dist-packages/torch/nn/modules/loss.py:446: UserWarning: Using a target size (torch.Size([434, 1])) that is different to the input size (torch.Size([434])). This will likely lead to incorrect results due to broadcasting. Please ensure they have the same size.\n",
            "  return F.mse_loss(input, target, reduction=self.reduction)\n"
          ],
          "name": "stderr"
        },
        {
          "output_type": "stream",
          "text": [
            "--------------------\n",
            "Epoch 4501 - Total loss: 10.334914521410198\tDistance loss:0\n",
            "\n",
            "method_name:\tPersonalized Regression\n",
            "MSE:\t10.791229347404327\n",
            "R2:\t-0.024057549247525234\n",
            "\n",
            "--------------------\n"
          ],
          "name": "stdout"
        },
        {
          "output_type": "stream",
          "text": [
            "/usr/local/lib/python3.6/dist-packages/torch/nn/modules/loss.py:446: UserWarning: Using a target size (torch.Size([434, 1])) that is different to the input size (torch.Size([434])). This will likely lead to incorrect results due to broadcasting. Please ensure they have the same size.\n",
            "  return F.mse_loss(input, target, reduction=self.reduction)\n"
          ],
          "name": "stderr"
        },
        {
          "output_type": "stream",
          "text": [
            "--------------------\n",
            "Epoch 4601 - Total loss: 10.334914520835719\tDistance loss:0\n",
            "\n",
            "method_name:\tPersonalized Regression\n",
            "MSE:\t10.791225589812687\n",
            "R2:\t-0.024057192662565008\n",
            "\n",
            "--------------------\n"
          ],
          "name": "stdout"
        },
        {
          "output_type": "stream",
          "text": [
            "/usr/local/lib/python3.6/dist-packages/torch/nn/modules/loss.py:446: UserWarning: Using a target size (torch.Size([434, 1])) that is different to the input size (torch.Size([434])). This will likely lead to incorrect results due to broadcasting. Please ensure they have the same size.\n",
            "  return F.mse_loss(input, target, reduction=self.reduction)\n"
          ],
          "name": "stderr"
        },
        {
          "output_type": "stream",
          "text": [
            "--------------------\n",
            "Epoch 4701 - Total loss: 10.334914520266768\tDistance loss:0\n",
            "\n",
            "method_name:\tPersonalized Regression\n",
            "MSE:\t10.791222140890891\n",
            "R2:\t-0.024056865369511682\n",
            "\n",
            "--------------------\n"
          ],
          "name": "stdout"
        },
        {
          "output_type": "stream",
          "text": [
            "/usr/local/lib/python3.6/dist-packages/torch/nn/modules/loss.py:446: UserWarning: Using a target size (torch.Size([434, 1])) that is different to the input size (torch.Size([434])). This will likely lead to incorrect results due to broadcasting. Please ensure they have the same size.\n",
            "  return F.mse_loss(input, target, reduction=self.reduction)\n"
          ],
          "name": "stderr"
        },
        {
          "output_type": "stream",
          "text": [
            "--------------------\n",
            "Epoch 4801 - Total loss: 10.334914519701352\tDistance loss:0\n",
            "\n",
            "method_name:\tPersonalized Regression\n",
            "MSE:\t10.791218936871193\n",
            "R2:\t-0.024056561316984082\n",
            "\n",
            "--------------------\n"
          ],
          "name": "stdout"
        },
        {
          "output_type": "stream",
          "text": [
            "/usr/local/lib/python3.6/dist-packages/torch/nn/modules/loss.py:446: UserWarning: Using a target size (torch.Size([434, 1])) that is different to the input size (torch.Size([434])). This will likely lead to incorrect results due to broadcasting. Please ensure they have the same size.\n",
            "  return F.mse_loss(input, target, reduction=self.reduction)\n"
          ],
          "name": "stderr"
        },
        {
          "output_type": "stream",
          "text": [
            "--------------------\n",
            "Epoch 4901 - Total loss: 10.334914519138204\tDistance loss:0\n",
            "\n",
            "method_name:\tPersonalized Regression\n",
            "MSE:\t10.791215927259667\n",
            "R2:\t-0.02405627571324942\n",
            "\n",
            "--------------------\n"
          ],
          "name": "stdout"
        },
        {
          "output_type": "stream",
          "text": [
            "/usr/local/lib/python3.6/dist-packages/torch/nn/modules/loss.py:446: UserWarning: Using a target size (torch.Size([434, 1])) that is different to the input size (torch.Size([434])). This will likely lead to incorrect results due to broadcasting. Please ensure they have the same size.\n",
            "  return F.mse_loss(input, target, reduction=self.reduction)\n"
          ],
          "name": "stderr"
        },
        {
          "output_type": "stream",
          "text": [
            "\n",
            "method_name:\tLinear Regression\n",
            "MSE:\t7.843097335056123\n",
            "R2:\t0.25571195117085554\n",
            "\n",
            "\n",
            "method_name:\tPersonalized Regression\n",
            "MSE:\t10.791213099942992\n",
            "R2:\t-0.024056007408787217\n",
            "\n"
          ],
          "name": "stdout"
        }
      ]
    }
  ]
}