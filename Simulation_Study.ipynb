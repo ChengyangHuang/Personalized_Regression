{
  "nbformat": 4,
  "nbformat_minor": 0,
  "metadata": {
    "colab": {
      "name": "Simulation Study",
      "provenance": [],
      "collapsed_sections": [],
      "authorship_tag": "ABX9TyOFx3qnzSvgfP1f9UC6NxYU",
      "include_colab_link": true
    },
    "kernelspec": {
      "name": "python3",
      "display_name": "Python 3"
    }
  },
  "cells": [
    {
      "cell_type": "markdown",
      "metadata": {
        "id": "view-in-github",
        "colab_type": "text"
      },
      "source": [
        "<a href=\"https://colab.research.google.com/github/ChengyangHuang/Personalized_Regression/blob/main/Simulation_Study.ipynb\" target=\"_parent\"><img src=\"https://colab.research.google.com/assets/colab-badge.svg\" alt=\"Open In Colab\"/></a>"
      ]
    },
    {
      "cell_type": "code",
      "metadata": {
        "id": "wRWWorSvKdtB"
      },
      "source": [
        "import numpy as np\n",
        "import matplotlib.pyplot as plt\n",
        "from sklearn.linear_model import LinearRegression\n",
        "from sklearn.decomposition import PCA\n",
        "\n",
        "np.random.seed(0)\n",
        "\n",
        "def generate_data(N, P, K, sigma_eps):\n",
        "    X = np.random.uniform(-1, 1, size=(N, P))\n",
        "    U = np.random.uniform(0, 1, size=(N, K))\n",
        "    a = (np.abs(U-0.5)>0.25) + 0.1*np.sin(3*np.pi*U)\n",
        "    theta = np.concatenate((U, a), axis=1)\n",
        "\n",
        "    w = np.random.normal(0, sigma_eps, size=(N, K))\n",
        "    # Y = np.diag(np.dot(X, theta.T)).reshape((N, K)) + w\n",
        "    Y = np.sum(np.multiply(X, theta), axis=1, keepdims=True)\n",
        "    return X, Y, theta, U \n",
        "\n",
        "def plot_parameters(theta_gt, theta_est):\n",
        "    fig, ax = plt.subplots(1)\n",
        "    ax.scatter(theta_gt[:, 0], theta_gt[:, 1])\n",
        "    ax.scatter(theta_est[:, 0], theta_est[:, 1])\n",
        "    return fig, ax"
      ],
      "execution_count": 122,
      "outputs": []
    },
    {
      "cell_type": "code",
      "metadata": {
        "id": "JFhhox9rqDvy"
      },
      "source": [
        "import torch\n",
        "from torch.autograd import Variable\n",
        "\n",
        "class PR():\n",
        "    def __init__(self, theta_pop, dataset, args):\n",
        "        self.sigma_theta = args.sigma_theta\n",
        "        self.lambd = 0 #TODO\n",
        "        self.gamma = 0 #TODO\n",
        "        self.nu = 0 #TODO\n",
        "        self.alpha = args.learning_rate\n",
        "        self.c = args.lr_decay\n",
        "        self.q = args.latent_dim\n",
        "\n",
        "        self.theta_pop = torch.from_numpy(theta_pop)\n",
        "        self.p = self.theta_pop.shape[0]\n",
        "\n",
        "        X_train, y_train, theta_train, U_train = dataset\n",
        "        self.X_train = torch.from_numpy(X_train)\n",
        "        self.y_train = torch.from_numpy(y_train)\n",
        "        self.U_train = torch.from_numpy(U_train)\n",
        "        self.theta_train = torch.from_numpy(theta_train)\n",
        "\n",
        "        self.n = self.X_train.shape[0]\n",
        "        self.k = self.U_train.shape[1]\n",
        "\n",
        "        PI = np.random.multivariate_normal(theta_pop, self.sigma_theta*np.eye(self.p), size=self.n)\n",
        "        self.PI = torch.from_numpy(PI)\n",
        "        self.Z, self.Q = self.__init_ZnQ(PI)\n",
        "        print(\"Z shape: \", self.Z.shape)\n",
        "        print(\"Q shape: \", self.Q.shape)\n",
        "        rec = torch.mm(self.Z, self.Q)\n",
        "        plot_parameters(self.theta_train, rec)\n",
        "        print((rec - self.PI).sum())\n",
        "        self.phi = torch.ones((self.k, ))\n",
        "\n",
        "\n",
        "    def train(self, n_epoch=5):\n",
        "        for _ in range(n_epoch):\n",
        "            Z = self.Z.clone().requires_grad_(True)\n",
        "            Q = self.Q.clone().requires_grad_(True)\n",
        "            phi = self.phi.clone().requires_grad_(True)\n",
        "\n",
        "            # Calculate Loss\n",
        "            l_loss, l_grad = self.__sample_specific_loss()\n",
        "            print(l_grad.shape)\n",
        "            D_loss = self.__distance_matching_regularizer(Z, phi)\n",
        "            psi_loss = 0 #TODO\n",
        "            loss = l_loss + D_loss + psi_loss\n",
        "\n",
        "            # Update phi\n",
        "            loss.backward()\n",
        "            self.phi -= self.alpha * phi.grad\n",
        "\n",
        "            # Update Z\n",
        "            alpha_cust = self.alpha / torch.linalg.norm(self.PI-self.theta_pop, \n",
        "                                                        float('inf'), dim=1, keepdim=True)\n",
        "            print(alpha_cust.shape)\n",
        "            print(Z.grad.shape)\n",
        "            self.Z -= alpha_cust * (Z.grad + torch.mm(l_grad, Q.T + 0)) #TODO\n",
        "\n",
        "            # Update Q\n",
        "            self.Q -= self.alpha #TODO\n",
        "\n",
        "            # Update alpha\n",
        "            self.alpha *= self.c\n",
        "\n",
        "            # Update theta, PI\n",
        "            self.PI = torch.mm(self.Z, self.Q)\n",
        "\n",
        "            # plot_parameters(self.theta_train, self.PI)\n",
        "            # plt.show()\n",
        "        \n",
        "    def __init_ZnQ(self, PI):\n",
        "        pca = PCA(n_components=self.q, whiten=False)\n",
        "        Z = pca.fit_transform(PI)\n",
        "        Q = pca.components_\n",
        "        return torch.from_numpy(Z), torch.from_numpy(Q)\n",
        "    \n",
        "\n",
        "    def __distance_matching_regularizer(self, Z, phi):\n",
        "        #TODO\n",
        "        J_set = []\n",
        "        return phi*Z.mean()\n",
        "\n",
        "    def __parameter_regularizer(self):\n",
        "        #TODO\n",
        "        pass\n",
        "        # return psi_loss, psi_grad\n",
        "    \n",
        "    def __sample_specific_loss(self):\n",
        "        #TOCHECK\n",
        "        diff = self.y_train - (self.X_train * self.PI).sum(dim=1, keepdim=True)\n",
        "        l_loss = (0.5 * diff ** 2).sum()\n",
        "        l_grad = -self.X_train * diff.repeat(1, 2)\n",
        "        return l_loss, l_grad"
      ],
      "execution_count": 123,
      "outputs": []
    },
    {
      "cell_type": "code",
      "metadata": {
        "colab": {
          "base_uri": "https://localhost:8080/",
          "height": 863
        },
        "id": "uSwrQf_7prQN",
        "outputId": "2097ca8b-0eff-4a8b-ff88-53de77fed43a"
      },
      "source": [
        "class Data_Arguments():\n",
        "    N_train = int(2500 * 0.8)\n",
        "    N_test = int(2500 * 0.2)\n",
        "    P = 2\n",
        "    K = 1\n",
        "    sigma_eps = 0.001\n",
        "\n",
        "class PR_Arguments():\n",
        "    sigma_theta = 0.001\n",
        "    learning_rate = 4e-3\n",
        "    lr_decay = 1-1e-4\n",
        "    latent_dim = 1\n",
        "    n_epoch = 1\n",
        "\n",
        "def main():\n",
        "    args = Data_Arguments()\n",
        "    \n",
        "    X_train, y_train, theta_train, U_train  = generate_data(args.N_train, args.P, args.K, args.sigma_eps)\n",
        "    X_test, y_test, theta_test, U_test = generate_data(args.N_test, args.P, args.K, args.sigma_eps)\n",
        "\n",
        "    dataset_train = (X_train, y_train, theta_train, U_train)\n",
        "\n",
        "    ## Linear Regression\n",
        "    lr = LinearRegression().fit(X_train, y_train)\n",
        "    theta_lr = np.array(lr.coef_)\n",
        "    plot_parameters(theta_train, theta_lr)\n",
        "\n",
        "    ## Personalized Regression\n",
        "    pr_args = PR_Arguments()\n",
        "    pr = PR(theta_lr.squeeze(), dataset_train, pr_args)\n",
        "    plot_parameters(theta_train, pr.PI)\n",
        "    pr.train(pr_args.n_epoch)\n",
        "    \n",
        "\n",
        "if __name__ == \"__main__\":\n",
        "    main()"
      ],
      "execution_count": 124,
      "outputs": [
        {
          "output_type": "stream",
          "text": [
            "Z shape:  torch.Size([2000, 1])\n",
            "Q shape:  torch.Size([1, 2])\n",
            "tensor(-1976.5624, dtype=torch.float64)\n",
            "torch.Size([2000, 2])\n",
            "torch.Size([2000, 1])\n",
            "torch.Size([2000, 1])\n"
          ],
          "name": "stdout"
        },
        {
          "output_type": "display_data",
          "data": {
            "image/png": "[encoded data removed]",
            "text/plain": [
              "<Figure size 432x288 with 1 Axes>"
            ]
          },
          "metadata": {
            "tags": [],
            "needs_background": "light"
          }
        },
        {
          "output_type": "display_data",
          "data": {
            "image/png": "[encoded data removed]",
            "text/plain": [
              "<Figure size 432x288 with 1 Axes>"
            ]
          },
          "metadata": {
            "tags": [],
            "needs_background": "light"
          }
        },
        {
          "output_type": "display_data",
          "data": {
            "image/png": "[encoded data removed]",
            "text/plain": [
              "<Figure size 432x288 with 1 Axes>"
            ]
          },
          "metadata": {
            "tags": [],
            "needs_background": "light"
          }
        }
      ]
    }
  ]
}