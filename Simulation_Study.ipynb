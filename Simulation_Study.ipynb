{
  "nbformat": 4,
  "nbformat_minor": 0,
  "metadata": {
    "colab": {
      "name": "Simulation Study",
      "provenance": [],
      "collapsed_sections": [],
      "authorship_tag": "ABX9TyOb4Hkfo4vizdmmTdgVOFup",
      "include_colab_link": true
    },
    "kernelspec": {
      "name": "python3",
      "display_name": "Python 3"
    }
  },
  "cells": [
    {
      "cell_type": "markdown",
      "metadata": {
        "id": "view-in-github",
        "colab_type": "text"
      },
      "source": [
        "<a href=\"https://colab.research.google.com/github/ChengyangHuang/Personalized_Regression/blob/main/Simulation_Study.ipynb\" target=\"_parent\"><img src=\"https://colab.research.google.com/assets/colab-badge.svg\" alt=\"Open In Colab\"/></a>"
      ]
    },
    {
      "cell_type": "code",
      "metadata": {
        "id": "wRWWorSvKdtB"
      },
      "source": [
        "import numpy as np\n",
        "import matplotlib.pyplot as plt\n",
        "from sklearn.linear_model import LinearRegression\n",
        "from sklearn.mixture import GaussianMixture\n",
        "from sklearn.mixture import BayesianGaussianMixture\n",
        "from sklearn.neural_network import MLPRegressor\n",
        "from sklearn.decomposition import PCA\n",
        "from sklearn.metrics import mean_squared_error\n",
        "\n",
        "from scipy.spatial import KDTree\n",
        "from scipy.spatial import distance_matrix\n",
        "\n",
        "import torch\n",
        "\n",
        "# np.random.seed(0)\n",
        "\n",
        "\n",
        "def generate_data(N, P, K, sigma_eps):\n",
        "    X = np.random.uniform(-1, 1, size=(N, P))\n",
        "    U = np.random.uniform(0, 1, size=(N, K))\n",
        "    a = (np.abs(U-0.5)>0.25) + 0.1*np.sin(3*np.pi*U)\n",
        "    theta = np.concatenate((U, a), axis=1)\n",
        "\n",
        "    w = np.random.normal(0, sigma_eps, size=(N, K))\n",
        "    # Y = np.diag(np.dot(X, theta.T)).reshape((N, K)) + w\n",
        "    Y = np.sum(np.multiply(X, theta), axis=1, keepdims=True)\n",
        "    return X, Y, theta, U \n",
        "\n",
        "\n",
        "def plot_parameters(theta_gt, theta_est):\n",
        "    fig, ax = plt.subplots(1)\n",
        "    ax.scatter(theta_gt[:, 0], theta_gt[:, 1], label=\"True Parameters\")\n",
        "    ax.scatter(theta_est[:, 0], theta_est[:, 1], label=\"EST. Parameters\")\n",
        "    ax.legend()\n",
        "    return fig, ax\n",
        "\n",
        "\n",
        "def baseline_method(X_train, y_train):\n",
        "    pass\n"
      ],
      "execution_count": 41,
      "outputs": []
    },
    {
      "cell_type": "code",
      "metadata": {
        "id": "JFhhox9rqDvy"
      },
      "source": [
        "class PR():\n",
        "    def __init__(self, theta_pop, dataset, args):\n",
        "        # Training Parameters\n",
        "        self.sigma_theta = args.sigma_theta\n",
        "        self.lambd = args.theta_regularizer\n",
        "        self.gamma = args.distance_regularizer\n",
        "        self.nu = args.phi_regularizer\n",
        "        self.alpha = args.learning_rate\n",
        "        self.c = args.lr_decay\n",
        "        self.q = args.latent_dim\n",
        "        self.log_steps = args.log_steps\n",
        "        self.n_neighbors = args.n_neighbors\n",
        "        self.show_logs = args.show_logs\n",
        "\n",
        "        self.theta_pop = torch.from_numpy(theta_pop)\n",
        "        self.p = self.theta_pop.shape[0]\n",
        "\n",
        "        # Training Data\n",
        "        X_train, y_train, theta_train, U_train = dataset\n",
        "        self.X_train = torch.from_numpy(X_train)\n",
        "        self.y_train = torch.from_numpy(y_train)\n",
        "        self.U_train = torch.from_numpy(U_train)\n",
        "        self.U_tree = KDTree(U_train) \n",
        "        self.U_distance_mat = torch.from_numpy(distance_matrix(U_train, U_train, p=2))\n",
        "        self.theta_train = torch.from_numpy(theta_train)\n",
        "        self.n = self.X_train.shape[0]\n",
        "        self.k = self.U_train.shape[1]\n",
        "\n",
        "        # Variable Initialization\n",
        "        PI = np.random.multivariate_normal(theta_pop, self.sigma_theta*np.eye(self.p), size=self.n)\n",
        "        self.PI = torch.from_numpy(PI)\n",
        "        self.Z, self.Q = self.__init_ZnQ(PI)\n",
        "        self.phi = torch.ones((self.k, ))\n",
        "\n",
        "        # Loss Functions\n",
        "        self.__sample_specific_loss = torch.nn.MSELoss(reduction='sum')\n",
        "        self.__parameter_regularizer = torch.nn.L1Loss()\n",
        "        self.__phi_regularizer = torch.nn.MSELoss()\n",
        "        self.__distance_loss = torch.nn.MSELoss()\n",
        "\n",
        "\n",
        "    def train(self, n_epoch=5):\n",
        "        for epoch in range(n_epoch):\n",
        "            Z = self.Z.clone().requires_grad_(True)\n",
        "            Q = self.Q.clone().requires_grad_(True)\n",
        "            phi = self.phi.clone().requires_grad_(True)\n",
        "            PI = self.__update_PI(Z, Q) \n",
        "\n",
        "            y_pred = (self.X_train * PI).sum(dim=1, keepdim=True)\n",
        "\n",
        "            # Calculate Loss\n",
        "            l_loss = self.__sample_specific_loss(y_pred, self.y_train)\n",
        "            # D_loss = self.__distance_matching_regularizer(Z, phi)\n",
        "            D_loss = 0\n",
        "            theta_loss = self.__parameter_regularizer(PI, torch.zeros_like(PI))\n",
        "            phi_loss = self.__phi_regularizer(phi, torch.ones_like(phi))\n",
        "            loss = l_loss + self.gamma * D_loss + self.lambd * theta_loss + self.nu * phi_loss\n",
        "            \n",
        "            # Update phi\n",
        "            loss.backward()\n",
        "            self.phi -= self.alpha * phi.grad\n",
        "\n",
        "            # Update Z\n",
        "            alpha_cust = self.alpha / torch.linalg.norm(self.PI-self.theta_pop, \n",
        "                                                        float('inf'), dim=1, keepdim=True)\n",
        "            self.Z -= alpha_cust * Z.grad\n",
        "\n",
        "            # Update Q\n",
        "            self.Q -= self.alpha * Q.grad\n",
        "\n",
        "            # Update alpha\n",
        "            self.alpha *= self.c\n",
        "\n",
        "            # Update theta, PI\n",
        "            self.PI = self.__update_PI(self.Z, self.Q)\n",
        "\n",
        "            if self.show_logs and epoch % self.log_steps == 0:\n",
        "                message = f\"Epoch {epoch+1} - Total loss: {loss}\\tDistance loss:{D_loss}\"\n",
        "                print(message)\n",
        "                plot_parameters(self.theta_train, self.PI)\n",
        "                plt.show()\n",
        "        \n",
        "\n",
        "    def predict(self, X_test, U_test):\n",
        "        X = torch.from_numpy(X_test)\n",
        "        _, idx_sets = self.U_tree.query(U_test, k=self.n_neighbors)\n",
        "        y_pred = []\n",
        "        for i in range(X_test.shape[0]):\n",
        "            idxs = idx_sets[i]\n",
        "            theta = self.PI[idxs, :].mean(axis=0)\n",
        "            y = torch.dot(X[i], theta).numpy()\n",
        "            y_pred.append(y)  \n",
        "        return y_pred\n",
        "\n",
        "\n",
        "    def __init_ZnQ(self, PI):\n",
        "        pca = PCA(n_components=self.q, whiten=False)\n",
        "        Z = pca.fit_transform(PI)\n",
        "        Q = pca.components_\n",
        "        return torch.from_numpy(Z), torch.from_numpy(Q)\n",
        "    \n",
        "\n",
        "    def __update_PI(self, Z, Q):\n",
        "        return torch.mm(Z, Q) + self.theta_pop\n",
        "    \n",
        "\n",
        "    def __distance_matching_regularizer(self, Z, phi):\n",
        "        #TODO\n",
        "        \n",
        "        _Z = Z.detach().numpy()\n",
        "        tree = KDTree(_Z)\n",
        "        _, J_sets = tree.query(_Z, k=6)\n",
        "        d_loss = 0\n",
        "        for i in range(J_sets.shape[0]):\n",
        "            J_set = J_sets[i][1:]\n",
        "            dU = phi * self.U_distance_mat[i, J_set]\n",
        "            dZ = torch.linalg.norm(Z[i] - Z[J_set, :], ord=2, dim=1)\n",
        "            d_loss += self.__distance_loss(dZ, dU)\n",
        "        return d_loss\n"
      ],
      "execution_count": 42,
      "outputs": []
    },
    {
      "cell_type": "code",
      "metadata": {
        "id": "fKZXleZyc-k4"
      },
      "source": [
        "    def predict(self, X_test, U_test):\n",
        "        # X = torch.from_numpy(X_test)\n",
        "        # _, idx_sets = self.U_tree.query(U_test, k=self.n_neighbors)\n",
        "        # for i in range(X_test.shape[0]):\n",
        "        #     idxs = idx_sets[i]\n",
        "        #     theta = self.PI[idxs, :].mean(axis=1)\n",
        "        #     print(theta.shape)\n",
        "        pass"
      ],
      "execution_count": 43,
      "outputs": []
    },
    {
      "cell_type": "code",
      "metadata": {
        "colab": {
          "base_uri": "https://localhost:8080/",
          "height": 1000
        },
        "id": "uSwrQf_7prQN",
        "outputId": "b1e81923-d648-488d-ac09-81c759d9f3dc"
      },
      "source": [
        "class Data_Arguments():\n",
        "    N_train = 200\n",
        "    N_test = 500\n",
        "    P = 2\n",
        "    K = 1\n",
        "    sigma_eps = 0.001\n",
        "\n",
        "\n",
        "class PR_Arguments():\n",
        "    sigma_theta = 0.001\n",
        "    learning_rate = 4e-3\n",
        "    lr_decay = 1-1e-4\n",
        "    latent_dim = 2\n",
        "    n_epoch = 2000 #2000\n",
        "    theta_regularizer = 0.01\n",
        "    distance_regularizer = 0.01\n",
        "    phi_regularizer = 0\n",
        "\n",
        "    n_neighbors = 3\n",
        "    log_steps = 100\n",
        "    show_logs = False\n",
        "\n",
        "\n",
        "def main():\n",
        "    args = Data_Arguments()\n",
        "    \n",
        "    X_train, y_train, theta_train, U_train  = generate_data(args.N_train, args.P, args.K, args.sigma_eps)\n",
        "    X_test, y_test, theta_test, U_test = generate_data(args.N_test, args.P, args.K, args.sigma_eps)\n",
        "\n",
        "    dataset_train = (X_train, y_train, theta_train, U_train)\n",
        "\n",
        "    ## Linear Regression\n",
        "    lr = LinearRegression().fit(X_train, y_train)\n",
        "    y_pred_lr = lr.predict(X_test)\n",
        "    mse_lr = mean_squared_error(y_test, y_pred_lr)\n",
        "    theta_lr = np.array(lr.coef_)\n",
        "    plot_parameters(theta_train, theta_lr)\n",
        "\n",
        "    ## Other Baseline methods\n",
        "    # GMM\n",
        "    gmm = GaussianMixture(3, max_iter=100).fit(X_train, y_train)\n",
        "    # gmm = BayesianGaussianMixture(3).fit(X_train, y_train)\n",
        "    y_pred_gmm = gmm.predict(X_test)\n",
        "    mse_gmm = mean_squared_error(y_test, y_pred_gmm)\n",
        "    theta_gmm = np.array(gmm.means_)\n",
        "    plot_parameters(theta_train, theta_gmm)\n",
        "\n",
        "    # DNN\n",
        "    dnn = MLPRegressor(hidden_layer_sizes=(50,)).fit(X_train, y_train.squeeze())\n",
        "    y_pred_dnn = dnn.predict(X_test)\n",
        "    mse_dnn = mean_squared_error(y_test, y_pred_dnn)\n",
        "    theta_dnn = np.array(dnn.coefs_[0].T)\n",
        "    plot_parameters(theta_train, theta_dnn)\n",
        "\n",
        "    ## Personalized Regression\n",
        "    pr_args = PR_Arguments()\n",
        "    pr = PR(theta_lr.squeeze(), dataset_train, pr_args)\n",
        "    pr.train(pr_args.n_epoch)\n",
        "    y_pred_pr = pr.predict(X_test, U_test)\n",
        "    mse_pr = mean_squared_error(y_test, y_pred_pr)\n",
        "    plot_parameters(theta_train, pr.PI)\n",
        "    \n",
        "    print(f\"Linear Regression MSE: {mse_lr}\")\n",
        "    print(f\"Gaussian Mixture MSE: {mse_gmm}\")\n",
        "    print(f\"Deep Neural Networks MSE: {mse_dnn}\")\n",
        "    print(f\"Personalized Regression MSE: {mse_pr}\")\n",
        "\n",
        "if __name__ == \"__main__\":\n",
        "    main()"
      ],
      "execution_count": 44,
      "outputs": [
        {
          "output_type": "stream",
          "text": [
            "Linear Regression MSE: 0.11910012614069038\n",
            "Gaussian Mixture MSE: 2.0300204489095797\n",
            "Deep Neural Networks MSE: 0.12025689719449849\n",
            "Personalized Regression MSE: 0.0427463720033999\n"
          ],
          "name": "stdout"
        },
        {
          "output_type": "display_data",
          "data": {
            "image/png": "[encoded data removed]",
            "text/plain": [
              "<Figure size 432x288 with 1 Axes>"
            ]
          },
          "metadata": {
            "tags": [],
            "needs_background": "light"
          }
        },
        {
          "output_type": "display_data",
          "data": {
            "image/png": "[encoded data removed]",
            "text/plain": [
              "<Figure size 432x288 with 1 Axes>"
            ]
          },
          "metadata": {
            "tags": [],
            "needs_background": "light"
          }
        },
        {
          "output_type": "display_data",
          "data": {
            "image/png": "[encoded data removed]",
            "text/plain": [
              "<Figure size 432x288 with 1 Axes>"
            ]
          },
          "metadata": {
            "tags": [],
            "needs_background": "light"
          }
        },
        {
          "output_type": "display_data",
          "data": {
            "image/png": "[encoded data removed]",
            "text/plain": [
              "<Figure size 432x288 with 1 Axes>"
            ]
          },
          "metadata": {
            "tags": [],
            "needs_background": "light"
          }
        }
      ]
    }
  ]
}